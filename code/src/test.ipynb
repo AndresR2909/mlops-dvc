{
 "cells": [
  {
   "cell_type": "code",
   "execution_count": 1,
   "metadata": {},
   "outputs": [],
   "source": [
    "results = {\n",
    "    'modelo1': {'Accuracy': 1, 'Recall': 1, 'F1-Score': 0.3},\n",
    "    'modelo2': {'Accuracy': 0.98, 'Recall': 0.98, 'F1-Score': 0.39},\n",
    "    'modelo3': {'Accuracy': 0.9, 'Recall': 0.9, 'F1-Score': 0.95},\n",
    "    'modelo4': {'Accuracy': 0.88, 'Recall': 0.58, 'F1-Score': 1},\n",
    "    'modelo5': {'Accuracy': 0.9, 'Recall': 0.45, 'F1-Score': 0.96}\n",
    "}\n",
    "\n",
    "from competition import  MetricsCompetition\n",
    "\n",
    "#recall_score The best value is 1 and the worst value is 0.\n",
    "#F1 score reaches its best value at 1 and worst score at 0\n",
    "# accuracy the best performance is 1 with normalize == True and the number of samples with normalize == False.\n",
    "\n",
    "\n",
    "c = MetricsCompetition(results,'count')"
   ]
  },
  {
   "cell_type": "code",
   "execution_count": 5,
   "metadata": {},
   "outputs": [
    {
     "data": {
      "text/plain": [
       "dict_keys(['Accuracy', 'Recall', 'F1-Score'])"
      ]
     },
     "execution_count": 5,
     "metadata": {},
     "output_type": "execute_result"
    }
   ],
   "source": [
    "c.available_metrics"
   ]
  },
  {
   "cell_type": "code",
   "execution_count": 6,
   "metadata": {},
   "outputs": [
    {
     "name": "stdout",
     "output_type": "stream",
     "text": [
      "modelo1: 8\n",
      "modelo2: 7\n",
      "modelo3: 5\n",
      "modelo4: 5\n",
      "modelo5: 4\n",
      "modelo1\n",
      "{'Accuracy': 1, 'Recall': 1, 'F1-Score': 0.3}\n"
     ]
    }
   ],
   "source": [
    "winner = c.evaluated_best_model()\n",
    "\n",
    "print(winner)\n",
    "print(results[winner])"
   ]
  },
  {
   "cell_type": "code",
   "execution_count": 8,
   "metadata": {},
   "outputs": [
    {
     "data": {
      "text/plain": [
       "'modelo1'"
      ]
     },
     "execution_count": 8,
     "metadata": {},
     "output_type": "execute_result"
    }
   ],
   "source": [
    "c.best_model"
   ]
  },
  {
   "cell_type": "code",
   "execution_count": 10,
   "metadata": {},
   "outputs": [
    {
     "name": "stdout",
     "output_type": "stream",
     "text": [
      " modelo1 :  2.3\n",
      " modelo2 :  2.35\n",
      " modelo3 :  2.75\n",
      " modelo4 :  2.46\n",
      " modelo5 :  2.31\n",
      "modelo3\n",
      "{'Accuracy': 0.9, 'Recall': 0.9, 'F1-Score': 0.95}\n"
     ]
    }
   ],
   "source": [
    "c2 = MetricsCompetition(results,'sum')\n",
    "winner = c2.evaluated_best_model()\n",
    "\n",
    "print(winner)\n",
    "print(results[winner])"
   ]
  }
 ],
 "metadata": {
  "kernelspec": {
   "display_name": ".venv",
   "language": "python",
   "name": "python3"
  },
  "language_info": {
   "codemirror_mode": {
    "name": "ipython",
    "version": 3
   },
   "file_extension": ".py",
   "mimetype": "text/x-python",
   "name": "python",
   "nbconvert_exporter": "python",
   "pygments_lexer": "ipython3",
   "version": "3.10.11"
  },
  "orig_nbformat": 4
 },
 "nbformat": 4,
 "nbformat_minor": 2
}
